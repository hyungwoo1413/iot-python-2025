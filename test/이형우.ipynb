{
 "cells": [
  {
   "cell_type": "markdown",
   "metadata": {},
   "source": [
    "1. 반지름 값을 입력받아 원의 넓이를 구하여 출력하는 프로그램을 구현하세요. π는 3.141592 입니다. 내부 모듈을 사용하여도 됩니다. "
   ]
  },
  {
   "cell_type": "code",
   "execution_count": 18,
   "metadata": {},
   "outputs": [
    {
     "name": "stdout",
     "output_type": "stream",
     "text": [
      "78.53981633974483\n"
     ]
    }
   ],
   "source": [
    "import math\n",
    "r = float(input('반지름 입력: '))\n",
    "print((math.pi)*(r**2))"
   ]
  },
  {
   "cell_type": "markdown",
   "metadata": {},
   "source": [
    "2. 영문이름을 입력하면 웹사이트 주소가 리턴되는 함수, get_url() 를  구현하세요.\n",
    "예) url = get_url('google') \n",
    "print(url) # www.google.com"
   ]
  },
  {
   "cell_type": "code",
   "execution_count": null,
   "metadata": {},
   "outputs": [
    {
     "name": "stdout",
     "output_type": "stream",
     "text": [
      "www.google.com\n"
     ]
    }
   ],
   "source": [
    "def get_url(url):\n",
    "    return f'www.{url}.com'\n",
    "\n",
    "url = get_url(input('웹사이트 입력: '))\n",
    "print(url)"
   ]
  },
  {
   "cell_type": "markdown",
   "metadata": {},
   "source": [
    "3.  구구단을 수행할 단번호를 입력하면 그 단의 9까지의 결과를 나열하는 프로그램을 입력하세요.\n",
    "예) 3 --> 3 6 9 12 15 18 21 24 27"
   ]
  },
  {
   "cell_type": "code",
   "execution_count": 63,
   "metadata": {},
   "outputs": [
    {
     "name": "stdout",
     "output_type": "stream",
     "text": [
      "3 6 9 12 15 18 21 24 27 "
     ]
    }
   ],
   "source": [
    "num = int(input('구구단 단 입력: '))\n",
    "\n",
    "for i in range(num,num+1):\n",
    "    for j in range(1,10):\n",
    "        print(i*j, end=' ')\n"
   ]
  },
  {
   "cell_type": "markdown",
   "metadata": {},
   "source": [
    "4.  입력한 수를 거꾸로 출력하는 프로그램을 구현하세요.\n",
    "예) 1 3 5 7 9 --> 9 7 5 3 1"
   ]
  },
  {
   "cell_type": "code",
   "execution_count": 42,
   "metadata": {},
   "outputs": [
    {
     "name": "stdout",
     "output_type": "stream",
     "text": [
      "67 5 3 1 "
     ]
    }
   ],
   "source": [
    "num = input('수 입력: ').split()\n",
    "num.reverse()\n",
    "\n",
    "for i in range(len(num)):\n",
    "    print(num[i],end=' ')"
   ]
  },
  {
   "cell_type": "markdown",
   "metadata": {},
   "source": [
    "5. SmartPhone 이라는 클래스를 만들고, 객체를 생성해서 phoneOwner, phoneNumber, company 등의 멤버변수(속성)을 가지도록 만드세요.(본인이 다른 기능을 좀 더 추가하여도 무방합니다)"
   ]
  },
  {
   "cell_type": "code",
   "execution_count": 81,
   "metadata": {},
   "outputs": [
    {
     "name": "stdout",
     "output_type": "stream",
     "text": [
      "이름: 이형우\n",
      "회사: 없음\n",
      "번호: 010-9566-1413\n",
      "이형우님의 번호는 010-9566-1413입니다\n",
      "김민수님의 번호는 010-1234-1234입니다\n"
     ]
    }
   ],
   "source": [
    "class SmartPhone:\n",
    "    def __init__(self, phoneOwner=None, phoneNumber=None, company=None):\n",
    "        self.phoneOwner = phoneOwner\n",
    "        self.phoneNumber = phoneNumber\n",
    "        self.company = company\n",
    "\n",
    "    def __str__(self):\n",
    "        return f'이름: {self.phoneOwner}\\n회사: {self.company}\\n번호: {self.phoneNumber}'\n",
    "    \n",
    "    def get_phoneOwner(self):\n",
    "        return self.phoneOwner\n",
    "    \n",
    "    def set_phoneOwner(self, PhoneOwner):\n",
    "        self.phoneOwner = PhoneOwner\n",
    "\n",
    "    def get_phoneNumber(self):\n",
    "        return self.phoneNumber\n",
    "    \n",
    "    def set_phoneNumber(self, phoneNumber):\n",
    "        self.phoneNumber = phoneNumber\n",
    "\n",
    "    def get_company(self):\n",
    "        return self.company\n",
    "    \n",
    "    def set_company(self, company):\n",
    "        self.company = company\n",
    "\n",
    "    def search(self):\n",
    "        return print(f'{self.phoneOwner}님의 번호는 {self.phoneNumber}입니다')\n",
    "        \n",
    "        \n",
    "if __name__ == '__main__':\n",
    "    myPhone = SmartPhone('이형우', '010-9566-1413', '없음')\n",
    "    yourPhone = SmartPhone('김민수', '010-1234-1234', '삼성')\n",
    "    print(myPhone)\n",
    "    SmartPhone.search(myPhone)\n",
    "    SmartPhone.search(yourPhone)\n"
   ]
  }
 ],
 "metadata": {
  "kernelspec": {
   "display_name": "Python 3",
   "language": "python",
   "name": "python3"
  },
  "language_info": {
   "codemirror_mode": {
    "name": "ipython",
    "version": 3
   },
   "file_extension": ".py",
   "mimetype": "text/x-python",
   "name": "python",
   "nbconvert_exporter": "python",
   "pygments_lexer": "ipython3",
   "version": "3.11.9"
  }
 },
 "nbformat": 4,
 "nbformat_minor": 2
}
